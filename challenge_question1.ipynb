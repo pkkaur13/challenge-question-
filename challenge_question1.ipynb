{
  "nbformat": 4,
  "nbformat_minor": 0,
  "metadata": {
    "colab": {
      "provenance": [],
      "authorship_tag": "ABX9TyNe2H0Ghe1fBi9PHvbN3UaD"
    },
    "kernelspec": {
      "name": "python3",
      "display_name": "Python 3"
    },
    "language_info": {
      "name": "python"
    }
  },
  "cells": [
    {
      "cell_type": "markdown",
      "source": [
        "# Challenge Question 1 \n"
      ],
      "metadata": {
        "id": "vUa_Wa9vGP-Y"
      }
    },
    {
      "cell_type": "code",
      "execution_count": 3,
      "metadata": {
        "colab": {
          "base_uri": "https://localhost:8080/"
        },
        "id": "orm8c3m8FQrR",
        "outputId": "1aab2473-b9bf-421f-82f7-c44b53a008fe"
      },
      "outputs": [
        {
          "output_type": "stream",
          "name": "stdout",
          "text": [
            "The original list : ['Ram', 1, 'Shyam', 2, 'Aman', 3]\n",
            "List after mixed sorting : [1, 2, 3, 'Aman', 'Ram', 'Shyam']\n"
          ]
        }
      ],
      "source": [
        "def mixs(a):\n",
        "    try:\n",
        "        b = int(a)\n",
        "        return (0, b)\n",
        "    except ValueError:\n",
        "        return (1, a)\n",
        "\n",
        "test_list = [\"Ram\", 1, \"Shyam\", 2, \"Aman\", 3]\n",
        "print(\"The original list : \" + str(test_list))\n",
        "test_list.sort(key = mixs)\n",
        "print(\"List after mixed sorting : \" + str(test_list))\n"
      ]
    }
  ]
}